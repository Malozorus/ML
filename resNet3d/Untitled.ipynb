{
 "cells": [
  {
   "cell_type": "code",
   "execution_count": 1,
   "id": "b33da169-9b2c-41dd-9e30-53fa56d1ab96",
   "metadata": {},
   "outputs": [
    {
     "name": "stdout",
     "output_type": "stream",
     "text": [
      " Le volume dans le lecteur C s'appelle Windows\n",
      " Le num‚ro de s‚rie du volume est 92DF-69A0\n",
      "\n",
      " R‚pertoire de C:\\Users\\mcouv\\Work\\machine-learning\\ML_tuto\\resNet3d\n",
      "\n",
      "03/09/2023  18:42    <DIR>          .\n",
      "03/09/2023  18:23    <DIR>          ..\n",
      "03/09/2023  18:42    <DIR>          .ipynb_checkpoints\n",
      "03/09/2023  13:18                 0 __init__.py\n",
      "03/09/2023  18:23    <DIR>          __pycache__\n",
      "03/09/2023  18:21             5ÿ878 datamodule.py\n",
      "03/09/2023  18:23             2ÿ974 model.py\n",
      "03/09/2023  18:18               798 train.py\n",
      "03/09/2023  18:42                72 Untitled.ipynb\n",
      "               5 fichier(s)            9ÿ722 octets\n",
      "               4 R‚p(s)  281ÿ173ÿ348ÿ352 octets libres\n"
     ]
    }
   ],
   "source": [
    "ls"
   ]
  },
  {
   "cell_type": "code",
   "execution_count": 3,
   "id": "d5322e08-2f04-426d-9d12-ffa73f677bed",
   "metadata": {},
   "outputs": [
    {
     "ename": "SyntaxError",
     "evalue": "invalid syntax (3458882724.py, line 1)",
     "output_type": "error",
     "traceback": [
      "\u001b[1;36m  Cell \u001b[1;32mIn[3], line 1\u001b[1;36m\u001b[0m\n\u001b[1;33m    python train.py\u001b[0m\n\u001b[1;37m           ^\u001b[0m\n\u001b[1;31mSyntaxError\u001b[0m\u001b[1;31m:\u001b[0m invalid syntax\n"
     ]
    }
   ],
   "source": [
    "python train.py"
   ]
  },
  {
   "cell_type": "code",
   "execution_count": null,
   "id": "3d0ed925-c7e9-4589-a6bd-1d6402fa2cde",
   "metadata": {},
   "outputs": [],
   "source": []
  }
 ],
 "metadata": {
  "kernelspec": {
   "display_name": "Python 3 (ipykernel)",
   "language": "python",
   "name": "python3"
  },
  "language_info": {
   "codemirror_mode": {
    "name": "ipython",
    "version": 3
   },
   "file_extension": ".py",
   "mimetype": "text/x-python",
   "name": "python",
   "nbconvert_exporter": "python",
   "pygments_lexer": "ipython3",
   "version": "3.11.4"
  }
 },
 "nbformat": 4,
 "nbformat_minor": 5
}
